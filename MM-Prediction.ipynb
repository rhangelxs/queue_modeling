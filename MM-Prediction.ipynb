{
 "cells": [
  {
   "cell_type": "markdown",
   "metadata": {},
   "source": [
    "Предсказание длинны очереди"
   ]
  },
  {
   "cell_type": "code",
   "execution_count": 1,
   "metadata": {},
   "outputs": [],
   "source": [
    "import numpy as np\n",
    "import pandas as pd\n",
    "from tqdm import tqdm"
   ]
  },
  {
   "cell_type": "code",
   "execution_count": 2,
   "metadata": {},
   "outputs": [],
   "source": [
    "import os.path\n",
    "filename =  \"data_processed.csv\"\n",
    "def get_or_create(filename, generate_dataset_function = None, recreate=None):\n",
    "    if filename.endswith('.gz'):\n",
    "        compression = 'gzip'\n",
    "    elif filename.endswith('.csv'):\n",
    "        compression = None\n",
    "    else:\n",
    "        raise AttributeError(\"Check filename\")\n",
    "    \n",
    "    if not os.path.exists(filename) or recreate == True:\n",
    "        df = generate_dataset_function()\n",
    "        df.to_csv(filename, compression=compression)\n",
    "    else:\n",
    "        df = pd.read_csv(filename, compression=compression)\n",
    "        df.drop(columns=[\"Unnamed: 0\"], inplace=True)\n",
    "    return df"
   ]
  },
  {
   "cell_type": "code",
   "execution_count": 3,
   "metadata": {},
   "outputs": [
    {
     "data": {
      "text/html": [
       "<div>\n",
       "<style scoped>\n",
       "    .dataframe tbody tr th:only-of-type {\n",
       "        vertical-align: middle;\n",
       "    }\n",
       "\n",
       "    .dataframe tbody tr th {\n",
       "        vertical-align: top;\n",
       "    }\n",
       "\n",
       "    .dataframe thead th {\n",
       "        text-align: right;\n",
       "    }\n",
       "</style>\n",
       "<table border=\"1\" class=\"dataframe\">\n",
       "  <thead>\n",
       "    <tr style=\"text-align: right;\">\n",
       "      <th></th>\n",
       "      <th>clients_count</th>\n",
       "      <th>queue_length_mean</th>\n",
       "      <th>queue_length_sd</th>\n",
       "      <th>serving_time_mean</th>\n",
       "      <th>serving_time_sd</th>\n",
       "    </tr>\n",
       "  </thead>\n",
       "  <tbody>\n",
       "    <tr>\n",
       "      <th>count</th>\n",
       "      <td>238.000000</td>\n",
       "      <td>238.000000</td>\n",
       "      <td>238.000000</td>\n",
       "      <td>238.000000</td>\n",
       "      <td>238.000000</td>\n",
       "    </tr>\n",
       "    <tr>\n",
       "      <th>mean</th>\n",
       "      <td>13.554622</td>\n",
       "      <td>4.331076</td>\n",
       "      <td>3.104534</td>\n",
       "      <td>286.003008</td>\n",
       "      <td>124.954177</td>\n",
       "    </tr>\n",
       "    <tr>\n",
       "      <th>std</th>\n",
       "      <td>4.468733</td>\n",
       "      <td>3.431805</td>\n",
       "      <td>1.796154</td>\n",
       "      <td>161.902989</td>\n",
       "      <td>93.515307</td>\n",
       "    </tr>\n",
       "    <tr>\n",
       "      <th>min</th>\n",
       "      <td>5.000000</td>\n",
       "      <td>0.333333</td>\n",
       "      <td>0.471536</td>\n",
       "      <td>120.000000</td>\n",
       "      <td>0.000000</td>\n",
       "    </tr>\n",
       "    <tr>\n",
       "      <th>25%</th>\n",
       "      <td>11.000000</td>\n",
       "      <td>1.722222</td>\n",
       "      <td>1.630206</td>\n",
       "      <td>178.234848</td>\n",
       "      <td>63.454816</td>\n",
       "    </tr>\n",
       "    <tr>\n",
       "      <th>50%</th>\n",
       "      <td>13.000000</td>\n",
       "      <td>3.178333</td>\n",
       "      <td>2.659807</td>\n",
       "      <td>229.363636</td>\n",
       "      <td>98.328767</td>\n",
       "    </tr>\n",
       "    <tr>\n",
       "      <th>75%</th>\n",
       "      <td>16.000000</td>\n",
       "      <td>6.125972</td>\n",
       "      <td>4.408904</td>\n",
       "      <td>342.189732</td>\n",
       "      <td>150.548063</td>\n",
       "    </tr>\n",
       "    <tr>\n",
       "      <th>max</th>\n",
       "      <td>28.000000</td>\n",
       "      <td>16.753333</td>\n",
       "      <td>8.563672</td>\n",
       "      <td>1042.000000</td>\n",
       "      <td>493.846401</td>\n",
       "    </tr>\n",
       "  </tbody>\n",
       "</table>\n",
       "</div>"
      ],
      "text/plain": [
       "       clients_count  queue_length_mean  queue_length_sd  serving_time_mean  \\\n",
       "count     238.000000         238.000000       238.000000         238.000000   \n",
       "mean       13.554622           4.331076         3.104534         286.003008   \n",
       "std         4.468733           3.431805         1.796154         161.902989   \n",
       "min         5.000000           0.333333         0.471536         120.000000   \n",
       "25%        11.000000           1.722222         1.630206         178.234848   \n",
       "50%        13.000000           3.178333         2.659807         229.363636   \n",
       "75%        16.000000           6.125972         4.408904         342.189732   \n",
       "max        28.000000          16.753333         8.563672        1042.000000   \n",
       "\n",
       "       serving_time_sd  \n",
       "count       238.000000  \n",
       "mean        124.954177  \n",
       "std          93.515307  \n",
       "min           0.000000  \n",
       "25%          63.454816  \n",
       "50%          98.328767  \n",
       "75%         150.548063  \n",
       "max         493.846401  "
      ]
     },
     "execution_count": 3,
     "metadata": {},
     "output_type": "execute_result"
    }
   ],
   "source": [
    "df = get_or_create(filename)\n",
    "df.describe()"
   ]
  },
  {
   "cell_type": "code",
   "execution_count": 4,
   "metadata": {},
   "outputs": [],
   "source": [
    "# # mu = 200\n",
    "# # sd = 120\n",
    "# # size = 60*10\n",
    "# array = np.random.normal(200, 100, 60*10)\n",
    "# x = array.reshape(1, -1)\n",
    "# x = array.reshape(-1, 1)\n",
    "\n",
    "# density = np.histogram(array, density=True)\n",
    "\n",
    "# from sklearn.neighbors.kde import KernelDensity\n",
    "\n",
    "# kd = KernelDensity().fit(x)\n",
    "# kd.score_samples(x)\n",
    "\n",
    "# start = 1\n",
    "# end = 60*10\n",
    "\n"
   ]
  },
  {
   "cell_type": "code",
   "execution_count": 5,
   "metadata": {},
   "outputs": [],
   "source": [
    "from scipy.stats import gaussian_kde\n",
    "array = np.random.normal(250, 100, 60*10)\n",
    "kde = gaussian_kde(array)\n",
    "\n",
    "pdf_df = pd.DataFrame(columns=[\"value\", \"probability\"])\n",
    "\n",
    "for i in range(1,600):\n",
    "    pdf_df = pdf_df.append({\"value\": i, \"probability\": kde.pdf(i)[0]}, ignore_index=True)\n",
    "#pdf_df.as_matrix\n",
    "#pdf_df.values\n",
    "#kde.integrate_box_1d(1,600)\n",
    "#kde.pdf(350)\n"
   ]
  },
  {
   "cell_type": "code",
   "execution_count": 6,
   "metadata": {},
   "outputs": [],
   "source": [
    "#pdf_df.query(\"value < 120\")[\"probability\"]\n",
    "#pdf_df.iloc[120:,][\"probability\"] + pdf_df.query(\"value < 120\")[\"probability\"]"
   ]
  },
  {
   "cell_type": "code",
   "execution_count": 7,
   "metadata": {},
   "outputs": [
    {
     "data": {
      "text/html": [
       "<div>\n",
       "<style scoped>\n",
       "    .dataframe tbody tr th:only-of-type {\n",
       "        vertical-align: middle;\n",
       "    }\n",
       "\n",
       "    .dataframe tbody tr th {\n",
       "        vertical-align: top;\n",
       "    }\n",
       "\n",
       "    .dataframe thead th {\n",
       "        text-align: right;\n",
       "    }\n",
       "</style>\n",
       "<table border=\"1\" class=\"dataframe\">\n",
       "  <thead>\n",
       "    <tr style=\"text-align: right;\">\n",
       "      <th></th>\n",
       "      <th>clients_count</th>\n",
       "      <th>queue_length_mean</th>\n",
       "      <th>queue_length_sd</th>\n",
       "      <th>serving_time_mean</th>\n",
       "      <th>serving_time_sd</th>\n",
       "    </tr>\n",
       "  </thead>\n",
       "  <tbody>\n",
       "    <tr>\n",
       "      <th>count</th>\n",
       "      <td>238.000000</td>\n",
       "      <td>238.000000</td>\n",
       "      <td>238.000000</td>\n",
       "      <td>238.000000</td>\n",
       "      <td>238.000000</td>\n",
       "    </tr>\n",
       "    <tr>\n",
       "      <th>mean</th>\n",
       "      <td>13.554622</td>\n",
       "      <td>4.331076</td>\n",
       "      <td>3.104534</td>\n",
       "      <td>286.003008</td>\n",
       "      <td>124.954177</td>\n",
       "    </tr>\n",
       "    <tr>\n",
       "      <th>std</th>\n",
       "      <td>4.468733</td>\n",
       "      <td>3.431805</td>\n",
       "      <td>1.796154</td>\n",
       "      <td>161.902989</td>\n",
       "      <td>93.515307</td>\n",
       "    </tr>\n",
       "    <tr>\n",
       "      <th>min</th>\n",
       "      <td>5.000000</td>\n",
       "      <td>0.333333</td>\n",
       "      <td>0.471536</td>\n",
       "      <td>120.000000</td>\n",
       "      <td>0.000000</td>\n",
       "    </tr>\n",
       "    <tr>\n",
       "      <th>25%</th>\n",
       "      <td>11.000000</td>\n",
       "      <td>1.722222</td>\n",
       "      <td>1.630206</td>\n",
       "      <td>178.234848</td>\n",
       "      <td>63.454816</td>\n",
       "    </tr>\n",
       "    <tr>\n",
       "      <th>50%</th>\n",
       "      <td>13.000000</td>\n",
       "      <td>3.178333</td>\n",
       "      <td>2.659807</td>\n",
       "      <td>229.363636</td>\n",
       "      <td>98.328767</td>\n",
       "    </tr>\n",
       "    <tr>\n",
       "      <th>75%</th>\n",
       "      <td>16.000000</td>\n",
       "      <td>6.125972</td>\n",
       "      <td>4.408904</td>\n",
       "      <td>342.189732</td>\n",
       "      <td>150.548063</td>\n",
       "    </tr>\n",
       "    <tr>\n",
       "      <th>max</th>\n",
       "      <td>28.000000</td>\n",
       "      <td>16.753333</td>\n",
       "      <td>8.563672</td>\n",
       "      <td>1042.000000</td>\n",
       "      <td>493.846401</td>\n",
       "    </tr>\n",
       "  </tbody>\n",
       "</table>\n",
       "</div>"
      ],
      "text/plain": [
       "       clients_count  queue_length_mean  queue_length_sd  serving_time_mean  \\\n",
       "count     238.000000         238.000000       238.000000         238.000000   \n",
       "mean       13.554622           4.331076         3.104534         286.003008   \n",
       "std         4.468733           3.431805         1.796154         161.902989   \n",
       "min         5.000000           0.333333         0.471536         120.000000   \n",
       "25%        11.000000           1.722222         1.630206         178.234848   \n",
       "50%        13.000000           3.178333         2.659807         229.363636   \n",
       "75%        16.000000           6.125972         4.408904         342.189732   \n",
       "max        28.000000          16.753333         8.563672        1042.000000   \n",
       "\n",
       "       serving_time_sd  \n",
       "count       238.000000  \n",
       "mean        124.954177  \n",
       "std          93.515307  \n",
       "min           0.000000  \n",
       "25%          63.454816  \n",
       "50%          98.328767  \n",
       "75%         150.548063  \n",
       "max         493.846401  "
      ]
     },
     "execution_count": 7,
     "metadata": {},
     "output_type": "execute_result"
    }
   ],
   "source": [
    "df = get_or_create(filename)\n",
    "df.describe()"
   ]
  },
  {
   "cell_type": "code",
   "execution_count": 8,
   "metadata": {},
   "outputs": [
    {
     "data": {
      "text/html": [
       "<div>\n",
       "<style scoped>\n",
       "    .dataframe tbody tr th:only-of-type {\n",
       "        vertical-align: middle;\n",
       "    }\n",
       "\n",
       "    .dataframe tbody tr th {\n",
       "        vertical-align: top;\n",
       "    }\n",
       "\n",
       "    .dataframe thead th {\n",
       "        text-align: right;\n",
       "    }\n",
       "</style>\n",
       "<table border=\"1\" class=\"dataframe\">\n",
       "  <thead>\n",
       "    <tr style=\"text-align: right;\">\n",
       "      <th></th>\n",
       "      <th>value</th>\n",
       "      <th>probability</th>\n",
       "    </tr>\n",
       "  </thead>\n",
       "  <tbody>\n",
       "    <tr>\n",
       "      <th>count</th>\n",
       "      <td>599.000000</td>\n",
       "      <td>599.000000</td>\n",
       "    </tr>\n",
       "    <tr>\n",
       "      <th>mean</th>\n",
       "      <td>300.000000</td>\n",
       "      <td>0.001641</td>\n",
       "    </tr>\n",
       "    <tr>\n",
       "      <th>std</th>\n",
       "      <td>173.060683</td>\n",
       "      <td>0.001405</td>\n",
       "    </tr>\n",
       "    <tr>\n",
       "      <th>min</th>\n",
       "      <td>1.000000</td>\n",
       "      <td>0.000007</td>\n",
       "    </tr>\n",
       "    <tr>\n",
       "      <th>25%</th>\n",
       "      <td>150.500000</td>\n",
       "      <td>0.000377</td>\n",
       "    </tr>\n",
       "    <tr>\n",
       "      <th>50%</th>\n",
       "      <td>300.000000</td>\n",
       "      <td>0.001193</td>\n",
       "    </tr>\n",
       "    <tr>\n",
       "      <th>75%</th>\n",
       "      <td>449.500000</td>\n",
       "      <td>0.002848</td>\n",
       "    </tr>\n",
       "    <tr>\n",
       "      <th>max</th>\n",
       "      <td>599.000000</td>\n",
       "      <td>0.004304</td>\n",
       "    </tr>\n",
       "  </tbody>\n",
       "</table>\n",
       "</div>"
      ],
      "text/plain": [
       "            value  probability\n",
       "count  599.000000   599.000000\n",
       "mean   300.000000     0.001641\n",
       "std    173.060683     0.001405\n",
       "min      1.000000     0.000007\n",
       "25%    150.500000     0.000377\n",
       "50%    300.000000     0.001193\n",
       "75%    449.500000     0.002848\n",
       "max    599.000000     0.004304"
      ]
     },
     "execution_count": 8,
     "metadata": {},
     "output_type": "execute_result"
    }
   ],
   "source": [
    "pdf_df.describe()"
   ]
  },
  {
   "cell_type": "markdown",
   "metadata": {},
   "source": [
    "# Features"
   ]
  },
  {
   "cell_type": "code",
   "execution_count": 9,
   "metadata": {},
   "outputs": [],
   "source": [
    "def prepare_features(X):\n",
    "    from featuretools.primitives import Minute, Hour, Day, Month, Year, Weekday\n",
    "\n",
    "    import featuretools as ft\n",
    "\n",
    "    es = ft.EntitySet(\"mm\")\n",
    "\n",
    "    from featuretools import variable_types as vtypes\n",
    "\n",
    "    variable_types = {\n",
    "        'time': vtypes.Datetime,\n",
    "        #'clients_count': vtypes.Numeric,\n",
    "\n",
    "    }\n",
    "\n",
    "    es.entity_from_dataframe(entity_id=\"chunks\",\n",
    "                             dataframe=X,\n",
    "                             index=\"index\",\n",
    "                             time_index='time',\n",
    "                             variable_types=variable_types)\n",
    "\n",
    "    feature_matrix, feature_defs = ft.dfs(entityset=es, target_entity=\"chunks\", trans_primitives=[Minute, Hour, Day, Weekday])\n",
    "    return feature_matrix"
   ]
  },
  {
   "cell_type": "markdown",
   "metadata": {},
   "source": [
    "# Train models"
   ]
  },
  {
   "cell_type": "code",
   "execution_count": 10,
   "metadata": {},
   "outputs": [],
   "source": [
    "y = df[[\"queue_length_mean\", \"queue_length_sd\"]]\n",
    "X = df.drop(y.columns, axis=1).reset_index()\n",
    "X = prepare_features(X)"
   ]
  },
  {
   "cell_type": "code",
   "execution_count": null,
   "metadata": {},
   "outputs": [],
   "source": []
  },
  {
   "cell_type": "code",
   "execution_count": 11,
   "metadata": {},
   "outputs": [],
   "source": [
    "from sklearn.model_selection import train_test_split\n",
    "from sklearn.model_selection import KFold\n",
    "from sklearn.model_selection import cross_val_score\n",
    "from sklearn.metrics import mean_absolute_error, mean_squared_error\n",
    "from sklearn.ensemble import ExtraTreesRegressor\n",
    "from sklearn.ensemble import RandomForestRegressor\n",
    "from sklearn.model_selection import GridSearchCV\n",
    "from sklearn.svm import SVR\n",
    "from sklearn.linear_model import LogisticRegression\n",
    "\n",
    "from sklearn.metrics import mean_squared_error\n",
    "\n",
    "from sklearn.pipeline import Pipeline\n",
    "\n",
    "from sklearn.svm import LinearSVC\n",
    "from sklearn.feature_selection import SelectFromModel"
   ]
  },
  {
   "cell_type": "code",
   "execution_count": 12,
   "metadata": {},
   "outputs": [],
   "source": [
    "X_train, X_test, y_train, y_test = train_test_split(X, y, test_size=0.2, random_state=0)"
   ]
  },
  {
   "cell_type": "code",
   "execution_count": 13,
   "metadata": {},
   "outputs": [],
   "source": [
    "## Predict queue_length_mean and queue_length_sd apart"
   ]
  },
  {
   "cell_type": "code",
   "execution_count": 14,
   "metadata": {},
   "outputs": [],
   "source": [
    "#y1_train = y_train.queue_length_mean\n",
    "#y1_test = y_test.queue_length_mean"
   ]
  },
  {
   "cell_type": "code",
   "execution_count": 15,
   "metadata": {},
   "outputs": [
    {
     "name": "stdout",
     "output_type": "stream",
     "text": [
      "Metric for queue_length_mean: 1.087231200326944\n"
     ]
    }
   ],
   "source": [
    "pipeline = Pipeline([\n",
    "    #('feature_selection', SelectFromModel(LinearSVC(penalty=\"l1\"))),\n",
    "    ('model',RandomForestRegressor())\n",
    "])\n",
    "scores = cross_val_score(pipeline, X_train, y_train, cv=10, scoring='neg_mean_squared_error')\n",
    "\n",
    "pipeline.fit(X_train,y_train)\n",
    "\n",
    "y_preds = pipeline.predict(X_test)\n",
    "\n",
    "metric = mean_squared_error(y_test, y_preds)\n",
    "print(\"Metric for queue_length_mean: %s\" % metric)"
   ]
  },
  {
   "cell_type": "code",
   "execution_count": 16,
   "metadata": {},
   "outputs": [],
   "source": [
    "import datetime"
   ]
  },
  {
   "cell_type": "code",
   "execution_count": 17,
   "metadata": {},
   "outputs": [
    {
     "data": {
      "text/plain": [
       "array([[2.95538889, 2.51062023]])"
      ]
     },
     "execution_count": 17,
     "metadata": {},
     "output_type": "execute_result"
    }
   ],
   "source": [
    "def predict_wrapper(numer_of_clients, duration_density = pdf_df, time = None):\n",
    "    global pipeline\n",
    "    def convert_density(duration_density):\n",
    "        mean = duration_density[\"probability\"].max()\n",
    "        real_mean = duration_density.iloc[(duration_density['probability']-mean).abs().argsort()[:1]].value.mean()\n",
    "        \n",
    "        sd = duration_density[\"probability\"].std()\n",
    "        real_sd = duration_density.iloc[(duration_density['probability']-sd).abs().argsort()[:1]].value.mean()\n",
    "        real_sd = abs(real_mean-real_sd)\n",
    "        \n",
    "        return real_mean, real_sd\n",
    "    real_mean, real_sd = convert_density(duration_density)\n",
    "    raw = pd.DataFrame([{\"clients_count\": numer_of_clients, \"serving_time_mean\": real_mean, \"serving_time_sd\": real_sd, \"time\": time}])\n",
    "    x = prepare_features(raw.reset_index())\n",
    "    return pipeline.predict(x)\n",
    "    \n",
    "predict_wrapper(15, duration_density = pdf_df, time=datetime.datetime(2018, 1, 1, 7, 0))"
   ]
  }
 ],
 "metadata": {
  "kernelspec": {
   "display_name": "Python 3",
   "language": "python",
   "name": "python3"
  },
  "language_info": {
   "codemirror_mode": {
    "name": "ipython",
    "version": 3
   },
   "file_extension": ".py",
   "mimetype": "text/x-python",
   "name": "python",
   "nbconvert_exporter": "python",
   "pygments_lexer": "ipython3",
   "version": "3.6.5"
  }
 },
 "nbformat": 4,
 "nbformat_minor": 2
}
